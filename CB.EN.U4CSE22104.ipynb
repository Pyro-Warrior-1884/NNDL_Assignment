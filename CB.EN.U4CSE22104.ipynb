{
  "nbformat": 4,
  "nbformat_minor": 0,
  "metadata": {
    "colab": {
      "provenance": []
    },
    "kernelspec": {
      "name": "python3",
      "display_name": "Python 3"
    },
    "language_info": {
      "name": "python"
    }
  },
  "cells": [
    {
      "cell_type": "code",
      "execution_count": 3,
      "metadata": {
        "id": "_ZWaJRkJHWRP"
      },
      "outputs": [],
      "source": [
        "import pandas as pd\n",
        "import numpy as np\n",
        "import matplotlib.pyplot as plt\n",
        "import seaborn as sns\n",
        "import warnings\n",
        "warnings.filterwarnings('ignore')"
      ]
    },
    {
      "cell_type": "code",
      "source": [
        "from sklearn.datasets import load_iris\n",
        "from sklearn.model_selection import train_test_split\n",
        "from sklearn.preprocessing import StandardScaler\n",
        "from sklearn.metrics import accuracy_score, confusion_matrix, classification_report, log_loss\n",
        "#there should be a bracket here\n",
        "from sklearn.neural_network import MLPClassifier\n"
      ],
      "metadata": {
        "id": "s4bD_LSGHjgi"
      },
      "execution_count": 9,
      "outputs": []
    },
    {
      "cell_type": "code",
      "source": [
        "import tensorflow as tf\n",
        "from tensorflow.keras.models import Sequential\n",
        "from tensorflow.keras.layers import Dense, Dropout\n",
        "from tensorflow.keras.optimizers import Adam\n",
        "from tensorflow.keras.utils import to_categorical"
      ],
      "metadata": {
        "id": "0sj2DBEtIJTC"
      },
      "execution_count": 5,
      "outputs": []
    },
    {
      "cell_type": "code",
      "source": [
        "np.random.seed(42)\n",
        "tf.random.set_seed(42)\n",
        "class IrisMLPClassifier:\n",
        "  def __init__(self):\n",
        "    self.model = None\n",
        "    self.scaler = StandardScaler()\n",
        "    self.class_names=['Setosa', 'Versicolor', 'Virginica']\n",
        "    self.feature_names=['Sepal Length', 'Sepal Width', 'Petal Length', 'Petal Width']\n",
        "    self.training_history={\n",
        "        'accuracy':[],\n",
        "        'val_accuracy':[],\n",
        "        'loss':[],\n",
        "        'val_loss':[]\n",
        "    }\n",
        "\n",
        "  def load_and_prepare_data(self):\n",
        "    print(\"Loading Iris dataset...\")\n",
        "    iris=load_iris()\n",
        "    X= iris.data\n",
        "    Y=iris.target()\n",
        "\n",
        "    X_train,X_test, y_train, y_test= train_test_split(X,Y,test_size=0.2,random_state=42, stratify=y)\n",
        "    X_train_scaled = self.scaled= self.scaler.fit_transform(X_train)\n",
        "    X_test_scaled = self.scaler.transform(X_test)\n",
        "   # y_train_cat= to_categorically(y_train, num_classes=3)\n",
        "    #y_test_cat= to_categorically(y_test, num_classes=3)\n",
        "\n",
        "    return X_train_scaled, X_test_scaled, y_train_cat, y_test_cat"
      ],
      "metadata": {
        "id": "_9VB401tINZs"
      },
      "execution_count": 10,
      "outputs": []
    },
    {
      "cell_type": "code",
      "source": [
        "def create_and_train_mlp(self, X_train, X_text, y_train, y_test,\n",
        "                         hidden_layer_sizes=(64,32), epochs=50, batch_size=32,\n",
        "                         learning_rate=0.001):\n",
        "  self.model=MLPClassifier(hidden_layer_sizes=hidden_layer_sizes, activation='relu', solver=solver, learning_rate_init=learning_rate_init, max_iter=max_iter, random_state=42, alpha = alpha,early_stopping=True, validation_fraction=0.1, n_iter_no_change=10, verbose=True)\n",
        "  self.model.fit(X_train, y_train)\n",
        "  self.training_history['loss']=seelf.model.loss_curve_\n",
        "  print(f\"   Converged after {self.model.n_iter_} iterations\")\n",
        "  print(f\"   Final training loss: {self.model.loss_:.6f}\")\n",
        ""
      ],
      "metadata": {
        "id": "ZPt67w43J49C"
      },
      "execution_count": null,
      "outputs": []
    }
  ]
}