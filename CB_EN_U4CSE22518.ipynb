{
  "nbformat": 4,
  "nbformat_minor": 0,
  "metadata": {
    "colab": {
      "provenance": [],
      "gpuType": "T4"
    },
    "kernelspec": {
      "name": "python3",
      "display_name": "Python 3"
    },
    "language_info": {
      "name": "python"
    },
    "accelerator": "GPU"
  },
  "cells": [
    {
      "cell_type": "code",
      "execution_count": 4,
      "metadata": {
        "id": "KwhSZ4sueXTK"
      },
      "outputs": [],
      "source": [
        "\n",
        "def activation(val):\n",
        "    return 1 if val >= 0 else 0\n",
        "\n",
        "def and_gate(a, b):\n",
        "    w_a, w_b, bias = 1, 1, -1.5\n",
        "    total = w_a * a + w_b * b + bias\n",
        "    return activation(total)\n",
        "\n",
        "\n",
        "def or_gate(a, b):\n",
        "    w_a, w_b, bias = 1, 1, -0.5\n",
        "    total = w_a * a + w_b * b + bias\n",
        "    return activation(total)\n",
        "\n",
        "def nand_gate(a, b):\n",
        "    w_a, w_b, bias = -2, -2, 3\n",
        "    total = w_a * a + w_b * b + bias\n",
        "    return activation(total)\n",
        "\n",
        "def xor_gate(a, b):\n",
        "    or_out = or_gate(a, b)\n",
        "    nand_out = nand_gate(a, b)\n",
        "\n",
        "    w_or, w_nand, bias = 1, 1, -1.5\n",
        "    total = w_or * or_out + w_nand * nand_out + bias\n",
        "    return activation(total)"
      ]
    },
    {
      "cell_type": "code",
      "source": [
        "inputs = [(0,0), (0,1), (1,0), (1,1)]\n",
        "\n",
        "print(\"AND GATE:\")\n",
        "for a, b in inputs:\n",
        "    print(f\"{a} AND {b} = {and_gate(a, b)}\")\n",
        "\n",
        "print(\"\\nOR GATE:\")\n",
        "for a, b in inputs:\n",
        "    print(f\"{a} OR {b} = {or_gate(a, b)}\")\n",
        "\n",
        "print(\"\\nXOR GATE:\")\n",
        "for a, b in inputs:\n",
        "    print(f\"{a} XOR {b} = {xor_gate(a, b)}\")"
      ],
      "metadata": {
        "colab": {
          "base_uri": "https://localhost:8080/"
        },
        "id": "5bRYGsrBebg0",
        "outputId": "17fee52a-0993-42d9-f87c-793c79cc1baf"
      },
      "execution_count": 5,
      "outputs": [
        {
          "output_type": "stream",
          "name": "stdout",
          "text": [
            "AND GATE:\n",
            "0 AND 0 = 0\n",
            "0 AND 1 = 0\n",
            "1 AND 0 = 0\n",
            "1 AND 1 = 1\n",
            "\n",
            "OR GATE:\n",
            "0 OR 0 = 0\n",
            "0 OR 1 = 1\n",
            "1 OR 0 = 1\n",
            "1 OR 1 = 1\n",
            "\n",
            "XOR GATE:\n",
            "0 XOR 0 = 0\n",
            "0 XOR 1 = 1\n",
            "1 XOR 0 = 1\n",
            "1 XOR 1 = 0\n"
          ]
        }
      ]
    },
    {
      "cell_type": "code",
      "source": [],
      "metadata": {
        "id": "G18WUv2jiPNf"
      },
      "execution_count": null,
      "outputs": []
    }
  ]
}