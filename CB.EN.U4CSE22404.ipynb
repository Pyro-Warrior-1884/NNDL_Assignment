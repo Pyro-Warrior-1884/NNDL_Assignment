{
  "nbformat": 4,
  "nbformat_minor": 0,
  "metadata": {
    "colab": {
      "provenance": [],
      "authorship_tag": "ABX9TyMBi0xaQyZop7FhpLYKKLLz",
      "include_colab_link": true
    },
    "kernelspec": {
      "name": "python3",
      "display_name": "Python 3"
    },
    "language_info": {
      "name": "python"
    }
  },
  "cells": [
    {
      "cell_type": "markdown",
      "metadata": {
        "id": "view-in-github",
        "colab_type": "text"
      },
      "source": [
        "<a href=\"https://colab.research.google.com/github/Pyro-Warrior-1884/NNDL_Assignment/blob/main/CB.EN.U4CSE22404.ipynb\" target=\"_parent\"><img src=\"https://colab.research.google.com/assets/colab-badge.svg\" alt=\"Open In Colab\"/></a>"
      ]
    },
    {
      "cell_type": "code",
      "execution_count": null,
      "metadata": {
        "colab": {
          "base_uri": "https://localhost:8080/"
        },
        "id": "LPAKKaPHhQdz",
        "outputId": "b1d0b7f9-96ef-481b-a543-cb6cc6628110"
      },
      "outputs": [
        {
          "output_type": "stream",
          "name": "stdout",
          "text": [
            "2.18.0\n"
          ]
        }
      ],
      "source": [
        "import tensorflow as tf\n",
        "print(tf.__version__)"
      ]
    },
    {
      "cell_type": "code",
      "source": [
        "#creating a scalar tensor\n",
        "scalar=tf.constant(7)\n",
        "scalar"
      ],
      "metadata": {
        "colab": {
          "base_uri": "https://localhost:8080/"
        },
        "id": "ypiS5Y5woDUy",
        "outputId": "c6ececb9-6f62-4f1e-a8d7-d210a560947c"
      },
      "execution_count": null,
      "outputs": [
        {
          "output_type": "execute_result",
          "data": {
            "text/plain": [
              "<tf.Tensor: shape=(), dtype=int32, numpy=7>"
            ]
          },
          "metadata": {},
          "execution_count": 4
        }
      ]
    },
    {
      "cell_type": "code",
      "source": [
        "scalar.ndim"
      ],
      "metadata": {
        "colab": {
          "base_uri": "https://localhost:8080/"
        },
        "id": "RQOQx2xhpvrm",
        "outputId": "f726b606-a128-458f-a77a-83f83e3501bd"
      },
      "execution_count": null,
      "outputs": [
        {
          "output_type": "execute_result",
          "data": {
            "text/plain": [
              "0"
            ]
          },
          "metadata": {},
          "execution_count": 5
        }
      ]
    },
    {
      "cell_type": "code",
      "source": [
        "#create a vector\n",
        "vector=tf.constant([10,10])\n",
        "vector"
      ],
      "metadata": {
        "colab": {
          "base_uri": "https://localhost:8080/"
        },
        "id": "QfkXDlVtqkTG",
        "outputId": "58ababd4-b6dc-46e7-ddca-80fe31ccfccb"
      },
      "execution_count": null,
      "outputs": [
        {
          "output_type": "execute_result",
          "data": {
            "text/plain": [
              "<tf.Tensor: shape=(2,), dtype=int32, numpy=array([10, 10], dtype=int32)>"
            ]
          },
          "metadata": {},
          "execution_count": 6
        }
      ]
    },
    {
      "cell_type": "code",
      "source": [
        "vector.ndim"
      ],
      "metadata": {
        "colab": {
          "base_uri": "https://localhost:8080/"
        },
        "id": "t3_VEuguretJ",
        "outputId": "cbe78b66-2f36-4840-ea01-d6abf6bd8311"
      },
      "execution_count": null,
      "outputs": [
        {
          "output_type": "execute_result",
          "data": {
            "text/plain": [
              "1"
            ]
          },
          "metadata": {},
          "execution_count": 7
        }
      ]
    },
    {
      "cell_type": "code",
      "source": [
        "#create a matrix\n",
        "matrix=tf.constant([[1,2],[2,10]])\n",
        "matrix"
      ],
      "metadata": {
        "colab": {
          "base_uri": "https://localhost:8080/"
        },
        "id": "eL11LLugrg3F",
        "outputId": "31e75f5f-7627-4514-908e-d891fbfb1664"
      },
      "execution_count": null,
      "outputs": [
        {
          "output_type": "execute_result",
          "data": {
            "text/plain": [
              "<tf.Tensor: shape=(2, 2), dtype=int32, numpy=\n",
              "array([[ 1,  2],\n",
              "       [ 2, 10]], dtype=int32)>"
            ]
          },
          "metadata": {},
          "execution_count": 8
        }
      ]
    },
    {
      "cell_type": "code",
      "source": [
        "matrix.ndim\n"
      ],
      "metadata": {
        "colab": {
          "base_uri": "https://localhost:8080/"
        },
        "id": "hk_loY5Hrzw9",
        "outputId": "e09dc952-41d4-453e-e94c-948519a6d1f3"
      },
      "execution_count": null,
      "outputs": [
        {
          "output_type": "execute_result",
          "data": {
            "text/plain": [
              "2"
            ]
          },
          "metadata": {},
          "execution_count": 9
        }
      ]
    },
    {
      "cell_type": "code",
      "source": [
        "#create another matrix\n",
        "matrix2=tf.constant([[12],[12],[12]],dtype=tf.float16)\n",
        "matrix2"
      ],
      "metadata": {
        "colab": {
          "base_uri": "https://localhost:8080/"
        },
        "id": "MdP7d0Ivsf0p",
        "outputId": "83758986-6dfe-441b-ff00-f483d7e371d8"
      },
      "execution_count": null,
      "outputs": [
        {
          "output_type": "execute_result",
          "data": {
            "text/plain": [
              "<tf.Tensor: shape=(3, 1), dtype=float16, numpy=\n",
              "array([[12.],\n",
              "       [12.],\n",
              "       [12.]], dtype=float16)>"
            ]
          },
          "metadata": {},
          "execution_count": 10
        }
      ]
    },
    {
      "cell_type": "code",
      "source": [
        "#3 dimensional tensor\n",
        "tensor=tf.constant([[[1,2,3],[4,5,6]],[[7,8,9],[10,11,12]],[[13,14,15],[16,17,18]]])\n",
        "tensor"
      ],
      "metadata": {
        "colab": {
          "base_uri": "https://localhost:8080/"
        },
        "id": "k0H_KlfEsh_u",
        "outputId": "1b38092d-0a46-4ef5-f9a9-e84ed72ee712"
      },
      "execution_count": null,
      "outputs": [
        {
          "output_type": "execute_result",
          "data": {
            "text/plain": [
              "<tf.Tensor: shape=(3, 2, 3), dtype=int32, numpy=\n",
              "array([[[ 1,  2,  3],\n",
              "        [ 4,  5,  6]],\n",
              "\n",
              "       [[ 7,  8,  9],\n",
              "        [10, 11, 12]],\n",
              "\n",
              "       [[13, 14, 15],\n",
              "        [16, 17, 18]]], dtype=int32)>"
            ]
          },
          "metadata": {},
          "execution_count": 11
        }
      ]
    },
    {
      "cell_type": "code",
      "source": [
        "tensor.ndim"
      ],
      "metadata": {
        "id": "siEtxfj-uapt",
        "outputId": "ed0ae7f6-d474-4c6a-e33f-dbcf411883e7",
        "colab": {
          "base_uri": "https://localhost:8080/"
        }
      },
      "execution_count": null,
      "outputs": [
        {
          "output_type": "execute_result",
          "data": {
            "text/plain": [
              "3"
            ]
          },
          "metadata": {},
          "execution_count": 12
        }
      ]
    },
    {
      "cell_type": "code",
      "source": [
        "#Lets create tensorflow Variables\n",
        "var=tf.Variable([4,4])\n",
        "var"
      ],
      "metadata": {
        "id": "6Gjennw1ud-L",
        "colab": {
          "base_uri": "https://localhost:8080/"
        },
        "outputId": "e96bdef2-213e-4764-be60-4b0393d3d307"
      },
      "execution_count": null,
      "outputs": [
        {
          "output_type": "execute_result",
          "data": {
            "text/plain": [
              "<tf.Variable 'Variable:0' shape=(2,) dtype=int32, numpy=array([4, 4], dtype=int32)>"
            ]
          },
          "metadata": {},
          "execution_count": 13
        }
      ]
    },
    {
      "cell_type": "markdown",
      "source": [
        "Variable: The name of the variable. If you don't explicitly give it a name, TensorFlow auto-generates one.\n",
        "\n",
        "0: Refers to the first output tensor of that variable (most variables only have one output, so it’s usually :0)."
      ],
      "metadata": {
        "id": "U3LAYGFY-b2R"
      }
    },
    {
      "cell_type": "code",
      "source": [
        "#reassigning the tensor variable using (.assign)\n",
        "var[0].assign(9)\n",
        "var"
      ],
      "metadata": {
        "colab": {
          "base_uri": "https://localhost:8080/"
        },
        "id": "pRySub8U-IWy",
        "outputId": "09e47da2-38c3-465d-fc9e-9a9b49ac953c"
      },
      "execution_count": null,
      "outputs": [
        {
          "output_type": "execute_result",
          "data": {
            "text/plain": [
              "<tf.Variable 'Variable:0' shape=(2,) dtype=int32, numpy=array([9, 4], dtype=int32)>"
            ]
          },
          "metadata": {},
          "execution_count": 14
        }
      ]
    },
    {
      "cell_type": "code",
      "source": [
        "var[0]=8"
      ],
      "metadata": {
        "colab": {
          "base_uri": "https://localhost:8080/",
          "height": 146
        },
        "id": "sFercDIY-qv5",
        "outputId": "159f3f26-0879-4461-a2e6-5fe8e0538797"
      },
      "execution_count": null,
      "outputs": [
        {
          "output_type": "error",
          "ename": "TypeError",
          "evalue": "'ResourceVariable' object does not support item assignment",
          "traceback": [
            "\u001b[0;31m---------------------------------------------------------------------------\u001b[0m",
            "\u001b[0;31mTypeError\u001b[0m                                 Traceback (most recent call last)",
            "\u001b[0;32m<ipython-input-15-4b969d487943>\u001b[0m in \u001b[0;36m<cell line: 0>\u001b[0;34m()\u001b[0m\n\u001b[0;32m----> 1\u001b[0;31m \u001b[0mvar\u001b[0m\u001b[0;34m[\u001b[0m\u001b[0;36m0\u001b[0m\u001b[0;34m]\u001b[0m\u001b[0;34m=\u001b[0m\u001b[0;36m8\u001b[0m\u001b[0;34m\u001b[0m\u001b[0;34m\u001b[0m\u001b[0m\n\u001b[0m",
            "\u001b[0;31mTypeError\u001b[0m: 'ResourceVariable' object does not support item assignment"
          ]
        }
      ]
    },
    {
      "cell_type": "markdown",
      "source": [
        "Assignment using direct indexing doensn't work we will have to use the (.assign()) function to reassign any values"
      ],
      "metadata": {
        "id": "Gh6Ebwwn-8bb"
      }
    },
    {
      "cell_type": "markdown",
      "source": [
        "**Note:**\n",
        "We will rarely be deciding whether to use tf.constant or tf.variable,Tensorflow does this for us.However,if in doubt use tf.constant and can be changed later\n"
      ],
      "metadata": {
        "id": "w0y0OG86A2gK"
      }
    },
    {
      "cell_type": "markdown",
      "source": [
        "\n",
        "\n",
        "---\n",
        "\n"
      ],
      "metadata": {
        "id": "10hqjQjQBdNZ"
      }
    },
    {
      "cell_type": "markdown",
      "source": [
        "## Creating Random Tensors\n"
      ],
      "metadata": {
        "id": "T7waf6mIBfCk"
      }
    },
    {
      "cell_type": "markdown",
      "source": [
        "Random tensors are tensors of arbitrary size filled with random numbers"
      ],
      "metadata": {
        "id": "JX1Rkh32B2fa"
      }
    },
    {
      "cell_type": "markdown",
      "source": [
        "\n",
        "\n",
        "---\n",
        "Creating a random constant tensor\n",
        "\n"
      ],
      "metadata": {
        "id": "PT046tuLEp2B"
      }
    },
    {
      "cell_type": "code",
      "source": [
        "random_tensor=tf.random.uniform(shape=[] ,minval=5, maxval=10)\n",
        "random_tensor\n"
      ],
      "metadata": {
        "colab": {
          "base_uri": "https://localhost:8080/"
        },
        "id": "M0WxdP6--u07",
        "outputId": "6391bb5c-670c-4ea4-a901-37ddaad7597c"
      },
      "execution_count": null,
      "outputs": [
        {
          "output_type": "execute_result",
          "data": {
            "text/plain": [
              "<tf.Tensor: shape=(), dtype=float32, numpy=9.98869800567627>"
            ]
          },
          "metadata": {},
          "execution_count": 16
        }
      ]
    },
    {
      "cell_type": "markdown",
      "source": [
        "We are using a uniform distribution\n",
        "\n",
        "minval: lower bound (inclusive)\n",
        "\n",
        "maxval: upper bound (exclusive)"
      ],
      "metadata": {
        "id": "XIP8ecskEo3G"
      }
    },
    {
      "cell_type": "code",
      "source": [
        "random_vector=tf.random.uniform(shape=[2,2],dtype=tf.float16)\n",
        "random_vector"
      ],
      "metadata": {
        "colab": {
          "base_uri": "https://localhost:8080/"
        },
        "id": "9ILy8fTwEXWu",
        "outputId": "543ad842-ef15-43c9-c0ab-c98e1d6d31b0"
      },
      "execution_count": null,
      "outputs": [
        {
          "output_type": "execute_result",
          "data": {
            "text/plain": [
              "<tf.Tensor: shape=(2, 2), dtype=float16, numpy=\n",
              "array([[0.1416, 0.4697],\n",
              "       [0.503 , 0.2012]], dtype=float16)>"
            ]
          },
          "metadata": {},
          "execution_count": 17
        }
      ]
    },
    {
      "cell_type": "markdown",
      "source": [
        "\n",
        "set_seed() function is used to reproduce the same sequence of numbers while generating random values"
      ],
      "metadata": {
        "id": "9fRprZaEG4O1"
      }
    },
    {
      "cell_type": "code",
      "source": [
        "tf.random.set_seed(5)\n",
        "vector=tf.random.normal(shape=[2,2])\n",
        "vector"
      ],
      "metadata": {
        "colab": {
          "base_uri": "https://localhost:8080/"
        },
        "id": "Jf4Qf_ORFCmL",
        "outputId": "71ca078d-63d8-4f12-a00d-2a346e9b9c51"
      },
      "execution_count": null,
      "outputs": [
        {
          "output_type": "execute_result",
          "data": {
            "text/plain": [
              "<tf.Tensor: shape=(2, 2), dtype=float32, numpy=\n",
              "array([[-0.18030666, -0.95028627],\n",
              "       [-0.03964049, -0.7425406 ]], dtype=float32)>"
            ]
          },
          "metadata": {},
          "execution_count": 18
        }
      ]
    },
    {
      "cell_type": "code",
      "source": [
        "tf.random.set_seed(5)\n",
        "vector=tf.random.normal(shape=[2,2])\n",
        "vector"
      ],
      "metadata": {
        "colab": {
          "base_uri": "https://localhost:8080/"
        },
        "id": "vveBPxHxGXqg",
        "outputId": "bd7683f4-037c-48c4-f334-51d3f20cdf27"
      },
      "execution_count": null,
      "outputs": [
        {
          "output_type": "execute_result",
          "data": {
            "text/plain": [
              "<tf.Tensor: shape=(2, 2), dtype=float32, numpy=\n",
              "array([[-0.18030666, -0.95028627],\n",
              "       [-0.03964049, -0.7425406 ]], dtype=float32)>"
            ]
          },
          "metadata": {},
          "execution_count": 19
        }
      ]
    },
    {
      "cell_type": "code",
      "source": [
        "vector=tf.random.normal(shape=[2,2])\n",
        "vector"
      ],
      "metadata": {
        "colab": {
          "base_uri": "https://localhost:8080/"
        },
        "id": "XLtOJnz5GXMC",
        "outputId": "7bce767e-35b2-42a6-df4e-0ffb103fe1d1"
      },
      "execution_count": null,
      "outputs": [
        {
          "output_type": "execute_result",
          "data": {
            "text/plain": [
              "<tf.Tensor: shape=(2, 2), dtype=float32, numpy=\n",
              "array([[0.22652864, 0.8106553 ],\n",
              "       [0.7466094 , 0.7749703 ]], dtype=float32)>"
            ]
          },
          "metadata": {},
          "execution_count": 20
        }
      ]
    },
    {
      "cell_type": "code",
      "source": [
        "g=tf.random.Generator.from_seed(5)\n",
        "gen1=g.uniform(shape=[2,2])\n",
        "saved_state = g.state.read_value()\n",
        "gen2=g.uniform(shape=[2,2])\n",
        "print(gen1)\n",
        "print(gen2)\n",
        "g.reset(saved_state)\n",
        "gen3=g.uniform(shape=[2,2])\n",
        "print(gen3)"
      ],
      "metadata": {
        "colab": {
          "base_uri": "https://localhost:8080/"
        },
        "id": "c7AoC5RVG2Nf",
        "outputId": "ea04507c-8cc1-4dea-f4fb-c1c361acd761"
      },
      "execution_count": null,
      "outputs": [
        {
          "output_type": "stream",
          "name": "stdout",
          "text": [
            "tf.Tensor(\n",
            "[[0.567016   0.2077086 ]\n",
            " [0.18223882 0.99883735]], shape=(2, 2), dtype=float32)\n",
            "tf.Tensor(\n",
            "[[0.0657748  0.8750659 ]\n",
            " [0.60925746 0.4647795 ]], shape=(2, 2), dtype=float32)\n",
            "tf.Tensor(\n",
            "[[0.0657748  0.8750659 ]\n",
            " [0.60925746 0.4647795 ]], shape=(2, 2), dtype=float32)\n"
          ]
        }
      ]
    },
    {
      "cell_type": "markdown",
      "source": [
        "we get different values in gen1 and gen2 becasue the state has advanced"
      ],
      "metadata": {
        "id": "SzeSgoKuLhA0"
      }
    },
    {
      "cell_type": "markdown",
      "source": [
        "gen3 and gen2 have the same values because they are created from the same state"
      ],
      "metadata": {
        "id": "FAhxiWCOL-IN"
      }
    },
    {
      "cell_type": "markdown",
      "source": [
        "\n",
        "\n",
        "---\n",
        "\n",
        "## Shuffling order of elements in a  Tensors\n",
        "useful when we want to changed the order of data so that it doesn not affect learning\n"
      ],
      "metadata": {
        "id": "52Ftr5o0vHdV"
      }
    },
    {
      "cell_type": "code",
      "source": [
        "shuffle = tf.constant([[1,2],[2,3],[3,4]])\n",
        "shuffle"
      ],
      "metadata": {
        "id": "FJdNlBSVKJaP",
        "colab": {
          "base_uri": "https://localhost:8080/"
        },
        "outputId": "67702cd6-8774-4df9-ec1f-36ca9f521f52"
      },
      "execution_count": null,
      "outputs": [
        {
          "output_type": "execute_result",
          "data": {
            "text/plain": [
              "<tf.Tensor: shape=(3, 2), dtype=int32, numpy=\n",
              "array([[1, 2],\n",
              "       [2, 3],\n",
              "       [3, 4]], dtype=int32)>"
            ]
          },
          "metadata": {},
          "execution_count": 22
        }
      ]
    },
    {
      "cell_type": "code",
      "source": [
        "shuffle.ndim"
      ],
      "metadata": {
        "colab": {
          "base_uri": "https://localhost:8080/"
        },
        "id": "4BqNB48zwHre",
        "outputId": "e4414d44-876d-45f1-af39-0de7b7cda4f5"
      },
      "execution_count": null,
      "outputs": [
        {
          "output_type": "execute_result",
          "data": {
            "text/plain": [
              "2"
            ]
          },
          "metadata": {},
          "execution_count": 23
        }
      ]
    },
    {
      "cell_type": "code",
      "source": [
        "tf.random.shuffle(shuffle)"
      ],
      "metadata": {
        "colab": {
          "base_uri": "https://localhost:8080/"
        },
        "id": "ABhxtKJ5wIvn",
        "outputId": "152edb8e-0fbf-4213-c884-656a0120a4da"
      },
      "execution_count": null,
      "outputs": [
        {
          "output_type": "execute_result",
          "data": {
            "text/plain": [
              "<tf.Tensor: shape=(3, 2), dtype=int32, numpy=\n",
              "array([[1, 2],\n",
              "       [2, 3],\n",
              "       [3, 4]], dtype=int32)>"
            ]
          },
          "metadata": {},
          "execution_count": 24
        }
      ]
    },
    {
      "cell_type": "code",
      "source": [
        "tf.random.shuffle(shuffle[0])"
      ],
      "metadata": {
        "colab": {
          "base_uri": "https://localhost:8080/"
        },
        "id": "8OvJOlq3wXFb",
        "outputId": "3e64341c-9616-44e7-8cc2-1f481b340e6d"
      },
      "execution_count": null,
      "outputs": [
        {
          "output_type": "execute_result",
          "data": {
            "text/plain": [
              "<tf.Tensor: shape=(2,), dtype=int32, numpy=array([2, 1], dtype=int32)>"
            ]
          },
          "metadata": {},
          "execution_count": 25
        }
      ]
    },
    {
      "cell_type": "markdown",
      "source": [
        "Seed is used to ensure we get the same random shuffling\n"
      ],
      "metadata": {
        "id": "kT1j99tvxGK5"
      }
    },
    {
      "cell_type": "code",
      "source": [
        "tf.random.set_seed(42)\n",
        "tf.random.shuffle(shuffle,seed=1)"
      ],
      "metadata": {
        "colab": {
          "base_uri": "https://localhost:8080/"
        },
        "id": "YP_ai-EHxFa1",
        "outputId": "633940a9-7ecb-4455-91c8-18e0b1385cec"
      },
      "execution_count": null,
      "outputs": [
        {
          "output_type": "execute_result",
          "data": {
            "text/plain": [
              "<tf.Tensor: shape=(3, 2), dtype=int32, numpy=\n",
              "array([[1, 2],\n",
              "       [3, 4],\n",
              "       [2, 3]], dtype=int32)>"
            ]
          },
          "metadata": {},
          "execution_count": 26
        }
      ]
    },
    {
      "cell_type": "markdown",
      "source": [
        "We shoud set a global seed otherwise the operation level seed might produce non deteministics results."
      ],
      "metadata": {
        "id": "3QBt4J6bx62V"
      }
    },
    {
      "cell_type": "markdown",
      "source": [
        "\n",
        "\n",
        "---\n",
        "\n",
        "## Some Other ways to create Tensors"
      ],
      "metadata": {
        "id": "VywlhvSW5WH2"
      }
    },
    {
      "cell_type": "code",
      "source": [
        "tf.ones(shape=[4,5])"
      ],
      "metadata": {
        "colab": {
          "base_uri": "https://localhost:8080/"
        },
        "id": "KKeX-Cs-xNQg",
        "outputId": "565d2b8a-7d00-42c7-c8da-bfef88317f9f"
      },
      "execution_count": null,
      "outputs": [
        {
          "output_type": "execute_result",
          "data": {
            "text/plain": [
              "<tf.Tensor: shape=(4, 5), dtype=float32, numpy=\n",
              "array([[1., 1., 1., 1., 1.],\n",
              "       [1., 1., 1., 1., 1.],\n",
              "       [1., 1., 1., 1., 1.],\n",
              "       [1., 1., 1., 1., 1.]], dtype=float32)>"
            ]
          },
          "metadata": {},
          "execution_count": 27
        }
      ]
    },
    {
      "cell_type": "code",
      "source": [
        "tf.zeros([2,4])"
      ],
      "metadata": {
        "colab": {
          "base_uri": "https://localhost:8080/"
        },
        "id": "7gLvH4455e0A",
        "outputId": "133c626a-f3f6-4d3f-ddc7-28249d122b5c"
      },
      "execution_count": null,
      "outputs": [
        {
          "output_type": "execute_result",
          "data": {
            "text/plain": [
              "<tf.Tensor: shape=(2, 4), dtype=float32, numpy=\n",
              "array([[0., 0., 0., 0.],\n",
              "       [0., 0., 0., 0.]], dtype=float32)>"
            ]
          },
          "metadata": {},
          "execution_count": 28
        }
      ]
    },
    {
      "cell_type": "markdown",
      "source": [
        "## Turning Numpy Arrays into tensors\n",
        "The difference betweeen numpy arrays and tensors is that tensors can be run on GPU(much faster)"
      ],
      "metadata": {
        "id": "uC3jAfhC6PfT"
      }
    },
    {
      "cell_type": "code",
      "source": [
        "import numpy as np\n",
        "\n",
        "numpy_A=np.array([[1,2,3,4],[1,2,3,4]])\n",
        "\n",
        "# X=tf.constant(matrix)  Uppercase for matrix representation and tensors\n",
        "# y-tf.constant(vector) lowercase for vector representation\n",
        "numpy_A.shape\n"
      ],
      "metadata": {
        "colab": {
          "base_uri": "https://localhost:8080/"
        },
        "id": "p7i57bn35kZM",
        "outputId": "ce0d6099-20bf-4a89-e7b7-5d8b7698fdbf"
      },
      "execution_count": null,
      "outputs": [
        {
          "output_type": "execute_result",
          "data": {
            "text/plain": [
              "(2, 4)"
            ]
          },
          "metadata": {},
          "execution_count": 29
        }
      ]
    },
    {
      "cell_type": "code",
      "source": [
        "A=tf.constant(numpy_A)\n",
        "A"
      ],
      "metadata": {
        "colab": {
          "base_uri": "https://localhost:8080/"
        },
        "id": "4xRZhL2pG_2P",
        "outputId": "0b263927-5752-4a14-ebaa-b45f5fcb3fa7"
      },
      "execution_count": null,
      "outputs": [
        {
          "output_type": "execute_result",
          "data": {
            "text/plain": [
              "<tf.Tensor: shape=(2, 4), dtype=int64, numpy=\n",
              "array([[1, 2, 3, 4],\n",
              "       [1, 2, 3, 4]])>"
            ]
          },
          "metadata": {},
          "execution_count": 30
        }
      ]
    },
    {
      "cell_type": "markdown",
      "source": [
        "we can change the shape of the tensor ensuring that the shape of tensor has the same number of elements in the numpy array"
      ],
      "metadata": {
        "id": "eCONjJ4kL1ok"
      }
    },
    {
      "cell_type": "code",
      "source": [
        "B=tf.constant(numpy_A, shape=[4,2])\n",
        "B"
      ],
      "metadata": {
        "colab": {
          "base_uri": "https://localhost:8080/"
        },
        "id": "uNWJLMDbHm4V",
        "outputId": "9f833184-85e6-4a44-b611-26fb34f46664"
      },
      "execution_count": null,
      "outputs": [
        {
          "output_type": "execute_result",
          "data": {
            "text/plain": [
              "<tf.Tensor: shape=(4, 2), dtype=int64, numpy=\n",
              "array([[1, 2],\n",
              "       [3, 4],\n",
              "       [1, 2],\n",
              "       [3, 4]])>"
            ]
          },
          "metadata": {},
          "execution_count": 31
        }
      ]
    },
    {
      "cell_type": "markdown",
      "source": [
        "The below code creates a Tensor G using the data from  tensor T"
      ],
      "metadata": {
        "id": "RcuPMP9jMjp9"
      }
    },
    {
      "cell_type": "code",
      "source": [
        "T=tf.constant([1,2,3,4])\n",
        "G=tf.constant(T,shape=[2,2])\n",
        "G"
      ],
      "metadata": {
        "colab": {
          "base_uri": "https://localhost:8080/"
        },
        "id": "np4RQRvYLrGg",
        "outputId": "6622b872-75b3-441e-d8e8-e7ecf47c44fc"
      },
      "execution_count": null,
      "outputs": [
        {
          "output_type": "execute_result",
          "data": {
            "text/plain": [
              "<tf.Tensor: shape=(2, 2), dtype=int32, numpy=\n",
              "array([[1, 2],\n",
              "       [3, 4]], dtype=int32)>"
            ]
          },
          "metadata": {},
          "execution_count": 32
        }
      ]
    },
    {
      "cell_type": "markdown",
      "source": [
        "The below code uses the reshape function,it does not create a new tensor rather it gives a different view of the existing tensor\n",
        "\n",
        "Note:We need an existing tensor to do this"
      ],
      "metadata": {
        "id": "QcsQx-4oM8ET"
      }
    },
    {
      "cell_type": "code",
      "source": [
        "G=tf.reshape(T,[2,2])\n",
        "G"
      ],
      "metadata": {
        "colab": {
          "base_uri": "https://localhost:8080/"
        },
        "id": "0EgxSXvYMpm8",
        "outputId": "7d037c46-7ebb-49a7-b025-635a27f0259a"
      },
      "execution_count": null,
      "outputs": [
        {
          "output_type": "execute_result",
          "data": {
            "text/plain": [
              "<tf.Tensor: shape=(2, 2), dtype=int32, numpy=\n",
              "array([[1, 2],\n",
              "       [3, 4]], dtype=int32)>"
            ]
          },
          "metadata": {},
          "execution_count": 33
        }
      ]
    },
    {
      "cell_type": "markdown",
      "source": [
        "##Getting Information from Tensors\n",
        "Attributes:\n",
        "\n",
        "\n",
        "*   Shape\n",
        "*   Rank\n",
        "*   Axis or dimension\n",
        "*   Size\n",
        "\n"
      ],
      "metadata": {
        "id": "09EtHQPNPrh7"
      }
    },
    {
      "cell_type": "code",
      "source": [
        "#creating a rank 5 tensor\n",
        "rnk_5=tf.zeros([2,2,2,2,2])\n",
        "rnk_5.ndim"
      ],
      "metadata": {
        "colab": {
          "base_uri": "https://localhost:8080/"
        },
        "id": "kyfTAyzbMMJ4",
        "outputId": "d366a537-a4bd-4d81-aeef-fdf77bb3eb14"
      },
      "execution_count": null,
      "outputs": [
        {
          "output_type": "execute_result",
          "data": {
            "text/plain": [
              "5"
            ]
          },
          "metadata": {},
          "execution_count": 34
        }
      ]
    },
    {
      "cell_type": "code",
      "source": [
        "rnk_5.shape"
      ],
      "metadata": {
        "colab": {
          "base_uri": "https://localhost:8080/"
        },
        "id": "bNtNa5TNRRSv",
        "outputId": "d979bee7-bcd5-4efa-e1d2-953a0775c151"
      },
      "execution_count": null,
      "outputs": [
        {
          "output_type": "execute_result",
          "data": {
            "text/plain": [
              "TensorShape([2, 2, 2, 2, 2])"
            ]
          },
          "metadata": {},
          "execution_count": 35
        }
      ]
    },
    {
      "cell_type": "code",
      "source": [
        "tf.size(rnk_5)"
      ],
      "metadata": {
        "colab": {
          "base_uri": "https://localhost:8080/"
        },
        "id": "EYd_WiOlRs1i",
        "outputId": "8fdc3da3-6b90-42b8-8a73-4d6d21f3b0eb"
      },
      "execution_count": null,
      "outputs": [
        {
          "output_type": "execute_result",
          "data": {
            "text/plain": [
              "<tf.Tensor: shape=(), dtype=int32, numpy=32>"
            ]
          },
          "metadata": {},
          "execution_count": 36
        }
      ]
    },
    {
      "cell_type": "code",
      "source": [
        "print(\"Datatype of each element in the tensor\",rnk_5.dtype)\n",
        "print(\"Number of dimensions in the tensor\",rnk_5.ndim)\n",
        "print(\"Shape of the tensor:\",rnk_5.shape)\n",
        "print(\"Number of elements along 1st axis\",rnk_5.shape[0])\n",
        "print(\"Number of elements along last axis\",rnk_5[-1].shape[-1])\n",
        "print(\"Number of elements in the tensor:\",tf.size(rnk_5).numpy())"
      ],
      "metadata": {
        "colab": {
          "base_uri": "https://localhost:8080/"
        },
        "id": "4_EDWtR-Ru9V",
        "outputId": "786fdfe0-bdae-4b2f-b5a6-79e88563bceb"
      },
      "execution_count": null,
      "outputs": [
        {
          "output_type": "stream",
          "name": "stdout",
          "text": [
            "Datatype of each element in the tensor <dtype: 'float32'>\n",
            "Number of dimensions in the tensor 5\n",
            "Shape of the tensor: (2, 2, 2, 2, 2)\n",
            "Number of elements along 1st axis 2\n",
            "Number of elements along last axis 2\n",
            "Number of elements in the tensor: 32\n"
          ]
        }
      ]
    },
    {
      "cell_type": "markdown",
      "source": [
        "## Indexing Tensors\n",
        "Tensors can be indexed just like python lists.\n"
      ],
      "metadata": {
        "id": "8ii2OSzftlSp"
      }
    },
    {
      "cell_type": "code",
      "source": [
        "# getting the first 2 elements of each dimension\n",
        "A=tf.constant([[[1,2],[3,5]],[[2,1],[3,4]]])\n",
        "A"
      ],
      "metadata": {
        "id": "DWp3OXMSSbGo",
        "colab": {
          "base_uri": "https://localhost:8080/"
        },
        "outputId": "ec10f346-bcb8-4d68-8071-207d71284966"
      },
      "execution_count": null,
      "outputs": [
        {
          "output_type": "execute_result",
          "data": {
            "text/plain": [
              "<tf.Tensor: shape=(2, 2, 2), dtype=int32, numpy=\n",
              "array([[[1, 2],\n",
              "        [3, 5]],\n",
              "\n",
              "       [[2, 1],\n",
              "        [3, 4]]], dtype=int32)>"
            ]
          },
          "metadata": {},
          "execution_count": 39
        }
      ]
    },
    {
      "cell_type": "code",
      "source": [
        "A[:1,:1,:1]"
      ],
      "metadata": {
        "colab": {
          "base_uri": "https://localhost:8080/"
        },
        "id": "vcuf22ATwiD3",
        "outputId": "d7146a85-6f99-4521-f7d6-ce978918e253"
      },
      "execution_count": null,
      "outputs": [
        {
          "output_type": "execute_result",
          "data": {
            "text/plain": [
              "<tf.Tensor: shape=(1, 1, 1), dtype=int32, numpy=array([[[1]]], dtype=int32)>"
            ]
          },
          "metadata": {},
          "execution_count": 41
        }
      ]
    },
    {
      "cell_type": "code",
      "source": [
        "B=tf.zeros([4,4,4,4])\n"
      ],
      "metadata": {
        "id": "AfXm5TkpxlYv"
      },
      "execution_count": null,
      "outputs": []
    },
    {
      "cell_type": "code",
      "source": [
        "#get the first element from all the dimensions except the last dimension\n",
        "B[:1,:1,:1]"
      ],
      "metadata": {
        "colab": {
          "base_uri": "https://localhost:8080/"
        },
        "id": "j5lSBuItx6QQ",
        "outputId": "5e3c0aff-bf80-49ab-ac9b-59490679b07b"
      },
      "execution_count": null,
      "outputs": [
        {
          "output_type": "execute_result",
          "data": {
            "text/plain": [
              "<tf.Tensor: shape=(1, 1, 1, 4), dtype=float32, numpy=array([[[[0., 0., 0., 0.]]]], dtype=float32)>"
            ]
          },
          "metadata": {},
          "execution_count": 45
        }
      ]
    },
    {
      "cell_type": "code",
      "source": [
        "#create a rank 2 tensor\n",
        "tf.random.set_seed(42)\n",
        "rnk_2=tf.random.uniform(shape=[5,5],minval=1, maxval=3,dtype=tf.int32)\n",
        "rnk_2"
      ],
      "metadata": {
        "colab": {
          "base_uri": "https://localhost:8080/"
        },
        "id": "8NesVul_yKKR",
        "outputId": "895e41b2-6075-4ac2-f48d-6c1471ce9948"
      },
      "execution_count": null,
      "outputs": [
        {
          "output_type": "execute_result",
          "data": {
            "text/plain": [
              "<tf.Tensor: shape=(5, 5), dtype=int32, numpy=\n",
              "array([[2, 2, 2, 1, 1],\n",
              "       [1, 2, 2, 2, 2],\n",
              "       [1, 1, 2, 2, 1],\n",
              "       [1, 2, 1, 2, 2],\n",
              "       [2, 1, 2, 1, 2]], dtype=int32)>"
            ]
          },
          "metadata": {},
          "execution_count": 62
        }
      ]
    },
    {
      "cell_type": "code",
      "source": [
        "#get the last element of each row\n",
        "rnk_2[:,-1]"
      ],
      "metadata": {
        "colab": {
          "base_uri": "https://localhost:8080/"
        },
        "id": "lX0zWMZhy0Vu",
        "outputId": "2ba2569a-e80a-4174-b6b4-320c991b51f1"
      },
      "execution_count": null,
      "outputs": [
        {
          "output_type": "execute_result",
          "data": {
            "text/plain": [
              "<tf.Tensor: shape=(5,), dtype=int32, numpy=array([1, 2, 1, 2, 2], dtype=int32)>"
            ]
          },
          "metadata": {},
          "execution_count": 63
        }
      ]
    },
    {
      "cell_type": "code",
      "source": [
        "#make it into a 3dim tensor\n",
        "rnk_3=tf.reshape(rnk_2,[1,5,5])\n",
        "rnk_3"
      ],
      "metadata": {
        "colab": {
          "base_uri": "https://localhost:8080/"
        },
        "id": "Gs-uZQwD0b9V",
        "outputId": "bd7c6778-7e4a-4592-ee2b-85d601f794bc"
      },
      "execution_count": null,
      "outputs": [
        {
          "output_type": "execute_result",
          "data": {
            "text/plain": [
              "<tf.Tensor: shape=(1, 5, 5), dtype=int32, numpy=\n",
              "array([[[2, 2, 2, 1, 1],\n",
              "        [1, 2, 2, 2, 2],\n",
              "        [1, 1, 2, 2, 1],\n",
              "        [1, 2, 1, 2, 2],\n",
              "        [2, 1, 2, 1, 2]]], dtype=int32)>"
            ]
          },
          "metadata": {},
          "execution_count": 68
        }
      ]
    },
    {
      "cell_type": "code",
      "source": [
        "#added a new dimension\n",
        "X=tf.ones([4,4,4,4])\n",
        "X.ndim\n"
      ],
      "metadata": {
        "colab": {
          "base_uri": "https://localhost:8080/"
        },
        "id": "XBYFhh-k0uBz",
        "outputId": "b53660de-dc57-42b4-f412-c3d3d042602b"
      },
      "execution_count": null,
      "outputs": [
        {
          "output_type": "execute_result",
          "data": {
            "text/plain": [
              "4"
            ]
          },
          "metadata": {},
          "execution_count": 70
        }
      ]
    },
    {
      "cell_type": "markdown",
      "source": [
        "(...) is known as the ellipse operator ,it is used to represent everything inbetween,especially in larger tensor"
      ],
      "metadata": {
        "id": "MlfTZfkY3PFK"
      }
    },
    {
      "cell_type": "code",
      "source": [
        "X[tf.newaxis,...]"
      ],
      "metadata": {
        "colab": {
          "base_uri": "https://localhost:8080/"
        },
        "id": "oMR6uC7S2xHv",
        "outputId": "353c5d26-02f4-4875-e433-2aaad29e36e5"
      },
      "execution_count": null,
      "outputs": [
        {
          "output_type": "execute_result",
          "data": {
            "text/plain": [
              "<tf.Tensor: shape=(1, 4, 4, 4, 4), dtype=float32, numpy=\n",
              "array([[[[[1., 1., 1., 1.],\n",
              "          [1., 1., 1., 1.],\n",
              "          [1., 1., 1., 1.],\n",
              "          [1., 1., 1., 1.]],\n",
              "\n",
              "         [[1., 1., 1., 1.],\n",
              "          [1., 1., 1., 1.],\n",
              "          [1., 1., 1., 1.],\n",
              "          [1., 1., 1., 1.]],\n",
              "\n",
              "         [[1., 1., 1., 1.],\n",
              "          [1., 1., 1., 1.],\n",
              "          [1., 1., 1., 1.],\n",
              "          [1., 1., 1., 1.]],\n",
              "\n",
              "         [[1., 1., 1., 1.],\n",
              "          [1., 1., 1., 1.],\n",
              "          [1., 1., 1., 1.],\n",
              "          [1., 1., 1., 1.]]],\n",
              "\n",
              "\n",
              "        [[[1., 1., 1., 1.],\n",
              "          [1., 1., 1., 1.],\n",
              "          [1., 1., 1., 1.],\n",
              "          [1., 1., 1., 1.]],\n",
              "\n",
              "         [[1., 1., 1., 1.],\n",
              "          [1., 1., 1., 1.],\n",
              "          [1., 1., 1., 1.],\n",
              "          [1., 1., 1., 1.]],\n",
              "\n",
              "         [[1., 1., 1., 1.],\n",
              "          [1., 1., 1., 1.],\n",
              "          [1., 1., 1., 1.],\n",
              "          [1., 1., 1., 1.]],\n",
              "\n",
              "         [[1., 1., 1., 1.],\n",
              "          [1., 1., 1., 1.],\n",
              "          [1., 1., 1., 1.],\n",
              "          [1., 1., 1., 1.]]],\n",
              "\n",
              "\n",
              "        [[[1., 1., 1., 1.],\n",
              "          [1., 1., 1., 1.],\n",
              "          [1., 1., 1., 1.],\n",
              "          [1., 1., 1., 1.]],\n",
              "\n",
              "         [[1., 1., 1., 1.],\n",
              "          [1., 1., 1., 1.],\n",
              "          [1., 1., 1., 1.],\n",
              "          [1., 1., 1., 1.]],\n",
              "\n",
              "         [[1., 1., 1., 1.],\n",
              "          [1., 1., 1., 1.],\n",
              "          [1., 1., 1., 1.],\n",
              "          [1., 1., 1., 1.]],\n",
              "\n",
              "         [[1., 1., 1., 1.],\n",
              "          [1., 1., 1., 1.],\n",
              "          [1., 1., 1., 1.],\n",
              "          [1., 1., 1., 1.]]],\n",
              "\n",
              "\n",
              "        [[[1., 1., 1., 1.],\n",
              "          [1., 1., 1., 1.],\n",
              "          [1., 1., 1., 1.],\n",
              "          [1., 1., 1., 1.]],\n",
              "\n",
              "         [[1., 1., 1., 1.],\n",
              "          [1., 1., 1., 1.],\n",
              "          [1., 1., 1., 1.],\n",
              "          [1., 1., 1., 1.]],\n",
              "\n",
              "         [[1., 1., 1., 1.],\n",
              "          [1., 1., 1., 1.],\n",
              "          [1., 1., 1., 1.],\n",
              "          [1., 1., 1., 1.]],\n",
              "\n",
              "         [[1., 1., 1., 1.],\n",
              "          [1., 1., 1., 1.],\n",
              "          [1., 1., 1., 1.],\n",
              "          [1., 1., 1., 1.]]]]], dtype=float32)>"
            ]
          },
          "metadata": {},
          "execution_count": 74
        }
      ]
    },
    {
      "cell_type": "code",
      "source": [
        "X[:,tf.newaxis,...]"
      ],
      "metadata": {
        "colab": {
          "base_uri": "https://localhost:8080/"
        },
        "id": "uzQlKgtG29GV",
        "outputId": "f4bcc926-9d88-4224-ca4f-62f9513efe38"
      },
      "execution_count": null,
      "outputs": [
        {
          "output_type": "execute_result",
          "data": {
            "text/plain": [
              "<tf.Tensor: shape=(4, 1, 4, 4, 4), dtype=float32, numpy=\n",
              "array([[[[[1., 1., 1., 1.],\n",
              "          [1., 1., 1., 1.],\n",
              "          [1., 1., 1., 1.],\n",
              "          [1., 1., 1., 1.]],\n",
              "\n",
              "         [[1., 1., 1., 1.],\n",
              "          [1., 1., 1., 1.],\n",
              "          [1., 1., 1., 1.],\n",
              "          [1., 1., 1., 1.]],\n",
              "\n",
              "         [[1., 1., 1., 1.],\n",
              "          [1., 1., 1., 1.],\n",
              "          [1., 1., 1., 1.],\n",
              "          [1., 1., 1., 1.]],\n",
              "\n",
              "         [[1., 1., 1., 1.],\n",
              "          [1., 1., 1., 1.],\n",
              "          [1., 1., 1., 1.],\n",
              "          [1., 1., 1., 1.]]]],\n",
              "\n",
              "\n",
              "\n",
              "       [[[[1., 1., 1., 1.],\n",
              "          [1., 1., 1., 1.],\n",
              "          [1., 1., 1., 1.],\n",
              "          [1., 1., 1., 1.]],\n",
              "\n",
              "         [[1., 1., 1., 1.],\n",
              "          [1., 1., 1., 1.],\n",
              "          [1., 1., 1., 1.],\n",
              "          [1., 1., 1., 1.]],\n",
              "\n",
              "         [[1., 1., 1., 1.],\n",
              "          [1., 1., 1., 1.],\n",
              "          [1., 1., 1., 1.],\n",
              "          [1., 1., 1., 1.]],\n",
              "\n",
              "         [[1., 1., 1., 1.],\n",
              "          [1., 1., 1., 1.],\n",
              "          [1., 1., 1., 1.],\n",
              "          [1., 1., 1., 1.]]]],\n",
              "\n",
              "\n",
              "\n",
              "       [[[[1., 1., 1., 1.],\n",
              "          [1., 1., 1., 1.],\n",
              "          [1., 1., 1., 1.],\n",
              "          [1., 1., 1., 1.]],\n",
              "\n",
              "         [[1., 1., 1., 1.],\n",
              "          [1., 1., 1., 1.],\n",
              "          [1., 1., 1., 1.],\n",
              "          [1., 1., 1., 1.]],\n",
              "\n",
              "         [[1., 1., 1., 1.],\n",
              "          [1., 1., 1., 1.],\n",
              "          [1., 1., 1., 1.],\n",
              "          [1., 1., 1., 1.]],\n",
              "\n",
              "         [[1., 1., 1., 1.],\n",
              "          [1., 1., 1., 1.],\n",
              "          [1., 1., 1., 1.],\n",
              "          [1., 1., 1., 1.]]]],\n",
              "\n",
              "\n",
              "\n",
              "       [[[[1., 1., 1., 1.],\n",
              "          [1., 1., 1., 1.],\n",
              "          [1., 1., 1., 1.],\n",
              "          [1., 1., 1., 1.]],\n",
              "\n",
              "         [[1., 1., 1., 1.],\n",
              "          [1., 1., 1., 1.],\n",
              "          [1., 1., 1., 1.],\n",
              "          [1., 1., 1., 1.]],\n",
              "\n",
              "         [[1., 1., 1., 1.],\n",
              "          [1., 1., 1., 1.],\n",
              "          [1., 1., 1., 1.],\n",
              "          [1., 1., 1., 1.]],\n",
              "\n",
              "         [[1., 1., 1., 1.],\n",
              "          [1., 1., 1., 1.],\n",
              "          [1., 1., 1., 1.],\n",
              "          [1., 1., 1., 1.]]]]], dtype=float32)>"
            ]
          },
          "metadata": {},
          "execution_count": 75
        }
      ]
    },
    {
      "cell_type": "code",
      "source": [
        "#we can add dimensions using the tf.expand_dims() function"
      ],
      "metadata": {
        "id": "yjwj3f8U3dR3"
      },
      "execution_count": null,
      "outputs": []
    },
    {
      "cell_type": "code",
      "source": [
        "B=tf.random.uniform([2,2])\n",
        "tf.expand_dims(B,axis=0)\n"
      ],
      "metadata": {
        "colab": {
          "base_uri": "https://localhost:8080/"
        },
        "id": "vz4adk944j4d",
        "outputId": "a6ae3750-c609-42ea-9abe-3b7a1662859a"
      },
      "execution_count": null,
      "outputs": [
        {
          "output_type": "execute_result",
          "data": {
            "text/plain": [
              "<tf.Tensor: shape=(1, 2, 2), dtype=float32, numpy=\n",
              "array([[[0.95831835, 0.01680839],\n",
              "        [0.3156035 , 0.16013157]]], dtype=float32)>"
            ]
          },
          "metadata": {},
          "execution_count": 83
        }
      ]
    },
    {
      "cell_type": "code",
      "source": [
        "tf.expand_dims(B,axis=2)"
      ],
      "metadata": {
        "colab": {
          "base_uri": "https://localhost:8080/"
        },
        "id": "itLDuvSQ4ouF",
        "outputId": "87cdf4ce-7abd-44fa-b6ad-34d7ff416901"
      },
      "execution_count": null,
      "outputs": [
        {
          "output_type": "execute_result",
          "data": {
            "text/plain": [
              "<tf.Tensor: shape=(2, 2, 1), dtype=float32, numpy=\n",
              "array([[[0.95831835],\n",
              "        [0.01680839]],\n",
              "\n",
              "       [[0.3156035 ],\n",
              "        [0.16013157]]], dtype=float32)>"
            ]
          },
          "metadata": {},
          "execution_count": 85
        }
      ]
    },
    {
      "cell_type": "code",
      "source": [],
      "metadata": {
        "id": "bu1IVs1X5GWM"
      },
      "execution_count": null,
      "outputs": []
    }
  ]
}