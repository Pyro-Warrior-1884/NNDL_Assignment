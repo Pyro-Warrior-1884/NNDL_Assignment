{
  "nbformat": 4,
  "nbformat_minor": 0,
  "metadata": {
    "colab": {
      "provenance": []
    },
    "kernelspec": {
      "name": "python3",
      "display_name": "Python 3"
    },
    "language_info": {
      "name": "python"
    }
  },
  "cells": [
    {
      "cell_type": "code",
      "execution_count": 28,
      "metadata": {
        "id": "z9DcUkrgJm1y"
      },
      "outputs": [],
      "source": [
        "import torch\n",
        "from sklearn.datasets import load_iris\n",
        "from sklearn.model_selection import train_test_split\n",
        "from sklearn.metrics import accuracy_score\n",
        "from torch import nn"
      ]
    },
    {
      "cell_type": "code",
      "source": [
        "class MLP(nn.Module):\n",
        "  def __init__(self, learning_rate, input_size, hidden_size, output_size):\n",
        "    super(MLP, self).__init__()\n",
        "    self.learning_rate = learning_rate\n",
        "    self.input_layer = nn.Linear(input_size, hidden_size)\n",
        "    self.activation_1 = nn.ReLU()\n",
        "    self.second_layer = nn.Linear(hidden_size, hidden_size)\n",
        "    self.activation_2 = nn.ReLU()\n",
        "    self.third_layer = nn.Linear(hidden_size, output_size)\n",
        "    self.softmax = nn.Softmax(dim = 1)\n",
        "\n",
        "  def forward(self, x):\n",
        "    x = self.input_layer(x)\n",
        "    x = self.activation_1(x)\n",
        "    x = self.second_layer(x)\n",
        "    x = self.activation_2(x)\n",
        "    x = self.third_layer(x)\n",
        "    x = self.softmax(x)\n",
        "    return x\n",
        "\n",
        "  def fit(self, X, y, epochs):\n",
        "    criterion = nn.CrossEntropyLoss()\n",
        "    optimizer = optimizer = torch.optim.SGD(self.parameters(), lr=self.learning_rate)\n",
        "    for epoch in range(epochs):\n",
        "      optimizer.zero_grad()\n",
        "      output = self.forward(X)\n",
        "      loss = criterion(output, y)\n",
        "      loss.backward()\n",
        "      optimizer.step()\n",
        "    print(f\"Loss {epochs} / {epochs} : \", loss.item())\n",
        "\n",
        "  def predict(self, X):\n",
        "    output = self.forward(X)\n",
        "    predicted = torch.argmax(output.data, 1)\n",
        "    return predicted"
      ],
      "metadata": {
        "id": "Wf2zgZKHJMhX"
      },
      "execution_count": 60,
      "outputs": []
    },
    {
      "cell_type": "code",
      "source": [
        "iris = load_iris()\n",
        "X = iris.data\n",
        "y = iris.target"
      ],
      "metadata": {
        "id": "oWmhBmgSW2it"
      },
      "execution_count": 62,
      "outputs": []
    },
    {
      "cell_type": "code",
      "source": [
        "X_train, X_test, y_train, y_test = train_test_split(X, y, test_size=0.2, random_state=42)"
      ],
      "metadata": {
        "id": "_LhLXlvVMt1M"
      },
      "execution_count": 63,
      "outputs": []
    },
    {
      "cell_type": "code",
      "source": [
        "X_train = torch.FloatTensor(X_train)\n",
        "X_test = torch.FloatTensor(X_test)\n",
        "y_train = torch.LongTensor(y_train)\n",
        "y_test = torch.LongTensor(y_test)"
      ],
      "metadata": {
        "id": "U6s6Y0UbNQHp"
      },
      "execution_count": 64,
      "outputs": []
    },
    {
      "cell_type": "code",
      "source": [
        "model = MLP(learning_rate=0.01, input_size=4, hidden_size=8, output_size=3)\n",
        "model.fit(X_train, y_train, 1500)"
      ],
      "metadata": {
        "colab": {
          "base_uri": "https://localhost:8080/"
        },
        "id": "6CfO_X6LM2Sn",
        "outputId": "8f962ab0-4480-4372-c7c4-5a1dacbae7ee"
      },
      "execution_count": 67,
      "outputs": [
        {
          "output_type": "stream",
          "name": "stdout",
          "text": [
            "Loss 1500 / 1500 :  0.6348035335540771\n"
          ]
        }
      ]
    },
    {
      "cell_type": "code",
      "source": [
        "y_pred = model.predict(X_test)\n",
        "accuracy = accuracy_score(y_test, y_pred)\n",
        "print(f\"Accuracy: {accuracy * 100}%\")"
      ],
      "metadata": {
        "colab": {
          "base_uri": "https://localhost:8080/"
        },
        "id": "XOIlvdPGOoYi",
        "outputId": "aff1ff58-ace5-4b5a-acf4-6e9bec9033e2"
      },
      "execution_count": 69,
      "outputs": [
        {
          "output_type": "stream",
          "name": "stdout",
          "text": [
            "Accuracy: 100.0%\n"
          ]
        }
      ]
    }
  ]
}